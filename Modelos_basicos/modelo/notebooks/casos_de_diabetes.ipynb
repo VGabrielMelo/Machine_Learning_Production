{
  "cells": [
    {
      "cell_type": "markdown",
      "metadata": {
        "colab_type": "text",
        "id": "1yhGliBI5RyD"
      },
      "source": [
        "## Importação das bibliotecas "
      ]
    },
    {
      "cell_type": "code",
      "execution_count": 1,
      "metadata": {
        "colab": {},
        "colab_type": "code",
        "id": "TQcLhXUsRo-_"
      },
      "outputs": [],
      "source": [
        "# importando as bibliotecas para manipulação dos dados\n",
        "import pandas as pd\n",
        "import pickle                 \n",
        "import matplotlib.pyplot as plt    \n",
        "import numpy as np                \n",
        "import warnings\n",
        "from sklearn.impute import SimpleImputer\n",
        "from sklearn.model_selection import train_test_split\n",
        "%matplotlib inline\n",
        "warnings.filterwarnings('ignore')"
      ]
    },
    {
      "cell_type": "code",
      "execution_count": 2,
      "metadata": {
        "colab": {},
        "colab_type": "code",
        "id": "y9m-ELWkWjNW"
      },
      "outputs": [],
      "source": [
        "df = pd.read_csv('../dados/diabetes.csv')"
      ]
    },
    {
      "cell_type": "code",
      "execution_count": 3,
      "metadata": {
        "colab": {
          "base_uri": "https://localhost:8080/",
          "height": 206
        },
        "colab_type": "code",
        "id": "04upK1yzXfMj",
        "outputId": "ab16df78-1e8e-442f-ba5a-f0e2d072e250"
      },
      "outputs": [
        {
          "data": {
            "text/html": [
              "<div>\n",
              "<style scoped>\n",
              "    .dataframe tbody tr th:only-of-type {\n",
              "        vertical-align: middle;\n",
              "    }\n",
              "\n",
              "    .dataframe tbody tr th {\n",
              "        vertical-align: top;\n",
              "    }\n",
              "\n",
              "    .dataframe thead th {\n",
              "        text-align: right;\n",
              "    }\n",
              "</style>\n",
              "<table border=\"1\" class=\"dataframe\">\n",
              "  <thead>\n",
              "    <tr style=\"text-align: right;\">\n",
              "      <th></th>\n",
              "      <th>Pregnancies</th>\n",
              "      <th>Glucose</th>\n",
              "      <th>BloodPressure</th>\n",
              "      <th>SkinThickness</th>\n",
              "      <th>Insulin</th>\n",
              "      <th>BMI</th>\n",
              "      <th>DiabetesPedigreeFunction</th>\n",
              "      <th>Age</th>\n",
              "      <th>Outcome</th>\n",
              "    </tr>\n",
              "  </thead>\n",
              "  <tbody>\n",
              "    <tr>\n",
              "      <th>0</th>\n",
              "      <td>6</td>\n",
              "      <td>148</td>\n",
              "      <td>72</td>\n",
              "      <td>35</td>\n",
              "      <td>0</td>\n",
              "      <td>33.6</td>\n",
              "      <td>0.627</td>\n",
              "      <td>50</td>\n",
              "      <td>1</td>\n",
              "    </tr>\n",
              "    <tr>\n",
              "      <th>1</th>\n",
              "      <td>1</td>\n",
              "      <td>85</td>\n",
              "      <td>66</td>\n",
              "      <td>29</td>\n",
              "      <td>0</td>\n",
              "      <td>26.6</td>\n",
              "      <td>0.351</td>\n",
              "      <td>31</td>\n",
              "      <td>0</td>\n",
              "    </tr>\n",
              "    <tr>\n",
              "      <th>2</th>\n",
              "      <td>8</td>\n",
              "      <td>183</td>\n",
              "      <td>64</td>\n",
              "      <td>0</td>\n",
              "      <td>0</td>\n",
              "      <td>23.3</td>\n",
              "      <td>0.672</td>\n",
              "      <td>32</td>\n",
              "      <td>1</td>\n",
              "    </tr>\n",
              "    <tr>\n",
              "      <th>3</th>\n",
              "      <td>1</td>\n",
              "      <td>89</td>\n",
              "      <td>66</td>\n",
              "      <td>23</td>\n",
              "      <td>94</td>\n",
              "      <td>28.1</td>\n",
              "      <td>0.167</td>\n",
              "      <td>21</td>\n",
              "      <td>0</td>\n",
              "    </tr>\n",
              "    <tr>\n",
              "      <th>4</th>\n",
              "      <td>0</td>\n",
              "      <td>137</td>\n",
              "      <td>40</td>\n",
              "      <td>35</td>\n",
              "      <td>168</td>\n",
              "      <td>43.1</td>\n",
              "      <td>2.288</td>\n",
              "      <td>33</td>\n",
              "      <td>1</td>\n",
              "    </tr>\n",
              "  </tbody>\n",
              "</table>\n",
              "</div>"
            ],
            "text/plain": [
              "   Pregnancies  Glucose  BloodPressure  SkinThickness  Insulin   BMI  \\\n",
              "0            6      148             72             35        0  33.6   \n",
              "1            1       85             66             29        0  26.6   \n",
              "2            8      183             64              0        0  23.3   \n",
              "3            1       89             66             23       94  28.1   \n",
              "4            0      137             40             35      168  43.1   \n",
              "\n",
              "   DiabetesPedigreeFunction  Age  Outcome  \n",
              "0                     0.627   50        1  \n",
              "1                     0.351   31        0  \n",
              "2                     0.672   32        1  \n",
              "3                     0.167   21        0  \n",
              "4                     2.288   33        1  "
            ]
          },
          "execution_count": 3,
          "metadata": {},
          "output_type": "execute_result"
        }
      ],
      "source": [
        "df.head()"
      ]
    },
    {
      "cell_type": "code",
      "execution_count": 4,
      "metadata": {
        "colab": {},
        "colab_type": "code",
        "id": "0NQprL67Xg2-"
      },
      "outputs": [],
      "source": [
        "colunas = {'Pregnancies': 'numero_gravidez', 'Glucose': 'glicose', 'BloodPressure': 'pressao_sanguinea', \n",
        "           'SkinThickness': 'espessura_pele_triceps', 'Insulin': 'insulina', 'BMI': 'imc', \n",
        "           'DiabetesPedigreeFunction': 'funcao_diabetes', 'Age': 'idade', 'Outcome': 'possui_diabetes'}"
      ]
    },
    {
      "cell_type": "code",
      "execution_count": 5,
      "metadata": {
        "colab": {},
        "colab_type": "code",
        "id": "2zi8vv71Y58q"
      },
      "outputs": [],
      "source": [
        "df = df.rename(columns= colunas)\n",
        "df.columns = df.columns.str.upper()"
      ]
    },
    {
      "cell_type": "code",
      "execution_count": 6,
      "metadata": {
        "colab": {
          "base_uri": "https://localhost:8080/",
          "height": 206
        },
        "colab_type": "code",
        "id": "TxaIzvUSZTGN",
        "outputId": "7953b8e5-9a72-40ff-bd0e-881a2242bbb2"
      },
      "outputs": [
        {
          "data": {
            "text/html": [
              "<div>\n",
              "<style scoped>\n",
              "    .dataframe tbody tr th:only-of-type {\n",
              "        vertical-align: middle;\n",
              "    }\n",
              "\n",
              "    .dataframe tbody tr th {\n",
              "        vertical-align: top;\n",
              "    }\n",
              "\n",
              "    .dataframe thead th {\n",
              "        text-align: right;\n",
              "    }\n",
              "</style>\n",
              "<table border=\"1\" class=\"dataframe\">\n",
              "  <thead>\n",
              "    <tr style=\"text-align: right;\">\n",
              "      <th></th>\n",
              "      <th>NUMERO_GRAVIDEZ</th>\n",
              "      <th>GLICOSE</th>\n",
              "      <th>PRESSAO_SANGUINEA</th>\n",
              "      <th>ESPESSURA_PELE_TRICEPS</th>\n",
              "      <th>INSULINA</th>\n",
              "      <th>IMC</th>\n",
              "      <th>FUNCAO_DIABETES</th>\n",
              "      <th>IDADE</th>\n",
              "      <th>POSSUI_DIABETES</th>\n",
              "    </tr>\n",
              "  </thead>\n",
              "  <tbody>\n",
              "    <tr>\n",
              "      <th>0</th>\n",
              "      <td>6</td>\n",
              "      <td>148</td>\n",
              "      <td>72</td>\n",
              "      <td>35</td>\n",
              "      <td>0</td>\n",
              "      <td>33.6</td>\n",
              "      <td>0.627</td>\n",
              "      <td>50</td>\n",
              "      <td>1</td>\n",
              "    </tr>\n",
              "    <tr>\n",
              "      <th>1</th>\n",
              "      <td>1</td>\n",
              "      <td>85</td>\n",
              "      <td>66</td>\n",
              "      <td>29</td>\n",
              "      <td>0</td>\n",
              "      <td>26.6</td>\n",
              "      <td>0.351</td>\n",
              "      <td>31</td>\n",
              "      <td>0</td>\n",
              "    </tr>\n",
              "    <tr>\n",
              "      <th>2</th>\n",
              "      <td>8</td>\n",
              "      <td>183</td>\n",
              "      <td>64</td>\n",
              "      <td>0</td>\n",
              "      <td>0</td>\n",
              "      <td>23.3</td>\n",
              "      <td>0.672</td>\n",
              "      <td>32</td>\n",
              "      <td>1</td>\n",
              "    </tr>\n",
              "    <tr>\n",
              "      <th>3</th>\n",
              "      <td>1</td>\n",
              "      <td>89</td>\n",
              "      <td>66</td>\n",
              "      <td>23</td>\n",
              "      <td>94</td>\n",
              "      <td>28.1</td>\n",
              "      <td>0.167</td>\n",
              "      <td>21</td>\n",
              "      <td>0</td>\n",
              "    </tr>\n",
              "    <tr>\n",
              "      <th>4</th>\n",
              "      <td>0</td>\n",
              "      <td>137</td>\n",
              "      <td>40</td>\n",
              "      <td>35</td>\n",
              "      <td>168</td>\n",
              "      <td>43.1</td>\n",
              "      <td>2.288</td>\n",
              "      <td>33</td>\n",
              "      <td>1</td>\n",
              "    </tr>\n",
              "  </tbody>\n",
              "</table>\n",
              "</div>"
            ],
            "text/plain": [
              "   NUMERO_GRAVIDEZ  GLICOSE  PRESSAO_SANGUINEA  ESPESSURA_PELE_TRICEPS  \\\n",
              "0                6      148                 72                      35   \n",
              "1                1       85                 66                      29   \n",
              "2                8      183                 64                       0   \n",
              "3                1       89                 66                      23   \n",
              "4                0      137                 40                      35   \n",
              "\n",
              "   INSULINA   IMC  FUNCAO_DIABETES  IDADE  POSSUI_DIABETES  \n",
              "0         0  33.6            0.627     50                1  \n",
              "1         0  26.6            0.351     31                0  \n",
              "2         0  23.3            0.672     32                1  \n",
              "3        94  28.1            0.167     21                0  \n",
              "4       168  43.1            2.288     33                1  "
            ]
          },
          "execution_count": 6,
          "metadata": {},
          "output_type": "execute_result"
        }
      ],
      "source": [
        "df.head()"
      ]
    },
    {
      "cell_type": "code",
      "execution_count": 7,
      "metadata": {
        "colab": {
          "base_uri": "https://localhost:8080/",
          "height": 35
        },
        "colab_type": "code",
        "id": "ubum1ZtUZUi_",
        "outputId": "e8d7cdaf-aea8-42a2-a208-c0c437f1263b"
      },
      "outputs": [
        {
          "data": {
            "text/plain": [
              "(768, 9)"
            ]
          },
          "execution_count": 7,
          "metadata": {},
          "output_type": "execute_result"
        }
      ],
      "source": [
        "df.shape"
      ]
    },
    {
      "cell_type": "code",
      "execution_count": 8,
      "metadata": {
        "colab": {
          "base_uri": "https://localhost:8080/",
          "height": 35
        },
        "colab_type": "code",
        "id": "lGwpFM9HadA0",
        "outputId": "608c0638-303b-49be-e05e-8006b41330f6"
      },
      "outputs": [
        {
          "data": {
            "text/plain": [
              "False"
            ]
          },
          "execution_count": 8,
          "metadata": {},
          "output_type": "execute_result"
        }
      ],
      "source": [
        "df.isnull().values.any()"
      ]
    },
    {
      "cell_type": "markdown",
      "metadata": {
        "colab_type": "text",
        "id": "AuRImLuL4NjF"
      },
      "source": [
        "### Iniciando a Análise Exploratória"
      ]
    },
    {
      "cell_type": "code",
      "execution_count": 9,
      "metadata": {
        "colab": {},
        "colab_type": "code",
        "id": "FgJwpuMFaldU"
      },
      "outputs": [],
      "source": [
        "def plotar_correlacao(df, size=10):\n",
        "    corr = df.corr()    \n",
        "    fig, ax = plt.subplots(figsize = (size, size))\n",
        "    ax.matshow(corr)  \n",
        "    plt.xticks(range(len(corr.columns)), corr.columns) \n",
        "    plt.yticks(range(len(corr.columns)), corr.columns)"
      ]
    },
    {
      "cell_type": "code",
      "execution_count": 10,
      "metadata": {
        "colab": {
          "base_uri": "https://localhost:8080/",
          "height": 596
        },
        "colab_type": "code",
        "id": "49mGWDWda0UM",
        "outputId": "c6dff8ae-4142-4d23-ec9e-a420cd443374"
      },
      "outputs": [
        {
          "data": {
            "image/png": "[encoded data removed]",
            "text/plain": [
              "<Figure size 720x720 with 1 Axes>"
            ]
          },
          "metadata": {
            "needs_background": "light"
          },
          "output_type": "display_data"
        }
      ],
      "source": [
        "plotar_correlacao(df)"
      ]
    },
    {
      "cell_type": "code",
      "execution_count": 11,
      "metadata": {
        "colab": {
          "base_uri": "https://localhost:8080/",
          "height": 332
        },
        "colab_type": "code",
        "id": "lzY2dmtba2GD",
        "outputId": "a59938b9-450e-412b-fee2-dbf4b87e512e"
      },
      "outputs": [
        {
          "data": {
            "text/html": [
              "<div>\n",
              "<style scoped>\n",
              "    .dataframe tbody tr th:only-of-type {\n",
              "        vertical-align: middle;\n",
              "    }\n",
              "\n",
              "    .dataframe tbody tr th {\n",
              "        vertical-align: top;\n",
              "    }\n",
              "\n",
              "    .dataframe thead th {\n",
              "        text-align: right;\n",
              "    }\n",
              "</style>\n",
              "<table border=\"1\" class=\"dataframe\">\n",
              "  <thead>\n",
              "    <tr style=\"text-align: right;\">\n",
              "      <th></th>\n",
              "      <th>NUMERO_GRAVIDEZ</th>\n",
              "      <th>GLICOSE</th>\n",
              "      <th>PRESSAO_SANGUINEA</th>\n",
              "      <th>ESPESSURA_PELE_TRICEPS</th>\n",
              "      <th>INSULINA</th>\n",
              "      <th>IMC</th>\n",
              "      <th>FUNCAO_DIABETES</th>\n",
              "      <th>IDADE</th>\n",
              "      <th>POSSUI_DIABETES</th>\n",
              "    </tr>\n",
              "  </thead>\n",
              "  <tbody>\n",
              "    <tr>\n",
              "      <th>NUMERO_GRAVIDEZ</th>\n",
              "      <td>True</td>\n",
              "      <td>False</td>\n",
              "      <td>False</td>\n",
              "      <td>False</td>\n",
              "      <td>False</td>\n",
              "      <td>False</td>\n",
              "      <td>False</td>\n",
              "      <td>True</td>\n",
              "      <td>False</td>\n",
              "    </tr>\n",
              "    <tr>\n",
              "      <th>GLICOSE</th>\n",
              "      <td>False</td>\n",
              "      <td>True</td>\n",
              "      <td>False</td>\n",
              "      <td>False</td>\n",
              "      <td>False</td>\n",
              "      <td>False</td>\n",
              "      <td>False</td>\n",
              "      <td>False</td>\n",
              "      <td>False</td>\n",
              "    </tr>\n",
              "    <tr>\n",
              "      <th>PRESSAO_SANGUINEA</th>\n",
              "      <td>False</td>\n",
              "      <td>False</td>\n",
              "      <td>True</td>\n",
              "      <td>False</td>\n",
              "      <td>False</td>\n",
              "      <td>False</td>\n",
              "      <td>False</td>\n",
              "      <td>False</td>\n",
              "      <td>False</td>\n",
              "    </tr>\n",
              "    <tr>\n",
              "      <th>ESPESSURA_PELE_TRICEPS</th>\n",
              "      <td>False</td>\n",
              "      <td>False</td>\n",
              "      <td>False</td>\n",
              "      <td>True</td>\n",
              "      <td>False</td>\n",
              "      <td>False</td>\n",
              "      <td>False</td>\n",
              "      <td>False</td>\n",
              "      <td>False</td>\n",
              "    </tr>\n",
              "    <tr>\n",
              "      <th>INSULINA</th>\n",
              "      <td>False</td>\n",
              "      <td>False</td>\n",
              "      <td>False</td>\n",
              "      <td>False</td>\n",
              "      <td>True</td>\n",
              "      <td>False</td>\n",
              "      <td>False</td>\n",
              "      <td>False</td>\n",
              "      <td>False</td>\n",
              "    </tr>\n",
              "    <tr>\n",
              "      <th>IMC</th>\n",
              "      <td>False</td>\n",
              "      <td>False</td>\n",
              "      <td>False</td>\n",
              "      <td>False</td>\n",
              "      <td>False</td>\n",
              "      <td>True</td>\n",
              "      <td>False</td>\n",
              "      <td>False</td>\n",
              "      <td>False</td>\n",
              "    </tr>\n",
              "    <tr>\n",
              "      <th>FUNCAO_DIABETES</th>\n",
              "      <td>False</td>\n",
              "      <td>False</td>\n",
              "      <td>False</td>\n",
              "      <td>False</td>\n",
              "      <td>False</td>\n",
              "      <td>False</td>\n",
              "      <td>True</td>\n",
              "      <td>False</td>\n",
              "      <td>False</td>\n",
              "    </tr>\n",
              "    <tr>\n",
              "      <th>IDADE</th>\n",
              "      <td>True</td>\n",
              "      <td>False</td>\n",
              "      <td>False</td>\n",
              "      <td>False</td>\n",
              "      <td>False</td>\n",
              "      <td>False</td>\n",
              "      <td>False</td>\n",
              "      <td>True</td>\n",
              "      <td>False</td>\n",
              "    </tr>\n",
              "    <tr>\n",
              "      <th>POSSUI_DIABETES</th>\n",
              "      <td>False</td>\n",
              "      <td>False</td>\n",
              "      <td>False</td>\n",
              "      <td>False</td>\n",
              "      <td>False</td>\n",
              "      <td>False</td>\n",
              "      <td>False</td>\n",
              "      <td>False</td>\n",
              "      <td>True</td>\n",
              "    </tr>\n",
              "  </tbody>\n",
              "</table>\n",
              "</div>"
            ],
            "text/plain": [
              "                        NUMERO_GRAVIDEZ  GLICOSE  PRESSAO_SANGUINEA  \\\n",
              "NUMERO_GRAVIDEZ                    True    False              False   \n",
              "GLICOSE                           False     True              False   \n",
              "PRESSAO_SANGUINEA                 False    False               True   \n",
              "ESPESSURA_PELE_TRICEPS            False    False              False   \n",
              "INSULINA                          False    False              False   \n",
              "IMC                               False    False              False   \n",
              "FUNCAO_DIABETES                   False    False              False   \n",
              "IDADE                              True    False              False   \n",
              "POSSUI_DIABETES                   False    False              False   \n",
              "\n",
              "                        ESPESSURA_PELE_TRICEPS  INSULINA    IMC  \\\n",
              "NUMERO_GRAVIDEZ                          False     False  False   \n",
              "GLICOSE                                  False     False  False   \n",
              "PRESSAO_SANGUINEA                        False     False  False   \n",
              "ESPESSURA_PELE_TRICEPS                    True     False  False   \n",
              "INSULINA                                 False      True  False   \n",
              "IMC                                      False     False   True   \n",
              "FUNCAO_DIABETES                          False     False  False   \n",
              "IDADE                                    False     False  False   \n",
              "POSSUI_DIABETES                          False     False  False   \n",
              "\n",
              "                        FUNCAO_DIABETES  IDADE  POSSUI_DIABETES  \n",
              "NUMERO_GRAVIDEZ                   False   True            False  \n",
              "GLICOSE                           False  False            False  \n",
              "PRESSAO_SANGUINEA                 False  False            False  \n",
              "ESPESSURA_PELE_TRICEPS            False  False            False  \n",
              "INSULINA                          False  False            False  \n",
              "IMC                               False  False            False  \n",
              "FUNCAO_DIABETES                    True  False            False  \n",
              "IDADE                             False   True            False  \n",
              "POSSUI_DIABETES                   False  False             True  "
            ]
          },
          "execution_count": 11,
          "metadata": {},
          "output_type": "execute_result"
        }
      ],
      "source": [
        "df.corr() > 0.5"
      ]
    },
    {
      "cell_type": "code",
      "execution_count": 12,
      "metadata": {
        "colab": {
          "base_uri": "https://localhost:8080/",
          "height": 300
        },
        "colab_type": "code",
        "id": "uHUiWN1Ia4cM",
        "outputId": "d7c9755c-c7bc-4e7f-fdd0-f1feee72cd4b"
      },
      "outputs": [
        {
          "data": {
            "text/html": [
              "<div>\n",
              "<style scoped>\n",
              "    .dataframe tbody tr th:only-of-type {\n",
              "        vertical-align: middle;\n",
              "    }\n",
              "\n",
              "    .dataframe tbody tr th {\n",
              "        vertical-align: top;\n",
              "    }\n",
              "\n",
              "    .dataframe thead th {\n",
              "        text-align: right;\n",
              "    }\n",
              "</style>\n",
              "<table border=\"1\" class=\"dataframe\">\n",
              "  <thead>\n",
              "    <tr style=\"text-align: right;\">\n",
              "      <th></th>\n",
              "      <th>NUMERO_GRAVIDEZ</th>\n",
              "      <th>GLICOSE</th>\n",
              "      <th>PRESSAO_SANGUINEA</th>\n",
              "      <th>ESPESSURA_PELE_TRICEPS</th>\n",
              "      <th>INSULINA</th>\n",
              "      <th>IMC</th>\n",
              "      <th>FUNCAO_DIABETES</th>\n",
              "      <th>IDADE</th>\n",
              "      <th>POSSUI_DIABETES</th>\n",
              "    </tr>\n",
              "  </thead>\n",
              "  <tbody>\n",
              "    <tr>\n",
              "      <th>count</th>\n",
              "      <td>768.000000</td>\n",
              "      <td>768.000000</td>\n",
              "      <td>768.000000</td>\n",
              "      <td>768.000000</td>\n",
              "      <td>768.000000</td>\n",
              "      <td>768.000000</td>\n",
              "      <td>768.000000</td>\n",
              "      <td>768.000000</td>\n",
              "      <td>768.000000</td>\n",
              "    </tr>\n",
              "    <tr>\n",
              "      <th>mean</th>\n",
              "      <td>3.845052</td>\n",
              "      <td>120.894531</td>\n",
              "      <td>69.105469</td>\n",
              "      <td>20.536458</td>\n",
              "      <td>79.799479</td>\n",
              "      <td>31.992578</td>\n",
              "      <td>0.471876</td>\n",
              "      <td>33.240885</td>\n",
              "      <td>0.348958</td>\n",
              "    </tr>\n",
              "    <tr>\n",
              "      <th>std</th>\n",
              "      <td>3.369578</td>\n",
              "      <td>31.972618</td>\n",
              "      <td>19.355807</td>\n",
              "      <td>15.952218</td>\n",
              "      <td>115.244002</td>\n",
              "      <td>7.884160</td>\n",
              "      <td>0.331329</td>\n",
              "      <td>11.760232</td>\n",
              "      <td>0.476951</td>\n",
              "    </tr>\n",
              "    <tr>\n",
              "      <th>min</th>\n",
              "      <td>0.000000</td>\n",
              "      <td>0.000000</td>\n",
              "      <td>0.000000</td>\n",
              "      <td>0.000000</td>\n",
              "      <td>0.000000</td>\n",
              "      <td>0.000000</td>\n",
              "      <td>0.078000</td>\n",
              "      <td>21.000000</td>\n",
              "      <td>0.000000</td>\n",
              "    </tr>\n",
              "    <tr>\n",
              "      <th>25%</th>\n",
              "      <td>1.000000</td>\n",
              "      <td>99.000000</td>\n",
              "      <td>62.000000</td>\n",
              "      <td>0.000000</td>\n",
              "      <td>0.000000</td>\n",
              "      <td>27.300000</td>\n",
              "      <td>0.243750</td>\n",
              "      <td>24.000000</td>\n",
              "      <td>0.000000</td>\n",
              "    </tr>\n",
              "    <tr>\n",
              "      <th>50%</th>\n",
              "      <td>3.000000</td>\n",
              "      <td>117.000000</td>\n",
              "      <td>72.000000</td>\n",
              "      <td>23.000000</td>\n",
              "      <td>30.500000</td>\n",
              "      <td>32.000000</td>\n",
              "      <td>0.372500</td>\n",
              "      <td>29.000000</td>\n",
              "      <td>0.000000</td>\n",
              "    </tr>\n",
              "    <tr>\n",
              "      <th>75%</th>\n",
              "      <td>6.000000</td>\n",
              "      <td>140.250000</td>\n",
              "      <td>80.000000</td>\n",
              "      <td>32.000000</td>\n",
              "      <td>127.250000</td>\n",
              "      <td>36.600000</td>\n",
              "      <td>0.626250</td>\n",
              "      <td>41.000000</td>\n",
              "      <td>1.000000</td>\n",
              "    </tr>\n",
              "    <tr>\n",
              "      <th>max</th>\n",
              "      <td>17.000000</td>\n",
              "      <td>199.000000</td>\n",
              "      <td>122.000000</td>\n",
              "      <td>99.000000</td>\n",
              "      <td>846.000000</td>\n",
              "      <td>67.100000</td>\n",
              "      <td>2.420000</td>\n",
              "      <td>81.000000</td>\n",
              "      <td>1.000000</td>\n",
              "    </tr>\n",
              "  </tbody>\n",
              "</table>\n",
              "</div>"
            ],
            "text/plain": [
              "       NUMERO_GRAVIDEZ     GLICOSE  PRESSAO_SANGUINEA  ESPESSURA_PELE_TRICEPS  \\\n",
              "count       768.000000  768.000000         768.000000              768.000000   \n",
              "mean          3.845052  120.894531          69.105469               20.536458   \n",
              "std           3.369578   31.972618          19.355807               15.952218   \n",
              "min           0.000000    0.000000           0.000000                0.000000   \n",
              "25%           1.000000   99.000000          62.000000                0.000000   \n",
              "50%           3.000000  117.000000          72.000000               23.000000   \n",
              "75%           6.000000  140.250000          80.000000               32.000000   \n",
              "max          17.000000  199.000000         122.000000               99.000000   \n",
              "\n",
              "         INSULINA         IMC  FUNCAO_DIABETES       IDADE  POSSUI_DIABETES  \n",
              "count  768.000000  768.000000       768.000000  768.000000       768.000000  \n",
              "mean    79.799479   31.992578         0.471876   33.240885         0.348958  \n",
              "std    115.244002    7.884160         0.331329   11.760232         0.476951  \n",
              "min      0.000000    0.000000         0.078000   21.000000         0.000000  \n",
              "25%      0.000000   27.300000         0.243750   24.000000         0.000000  \n",
              "50%     30.500000   32.000000         0.372500   29.000000         0.000000  \n",
              "75%    127.250000   36.600000         0.626250   41.000000         1.000000  \n",
              "max    846.000000   67.100000         2.420000   81.000000         1.000000  "
            ]
          },
          "execution_count": 12,
          "metadata": {},
          "output_type": "execute_result"
        }
      ],
      "source": [
        "df.describe()"
      ]
    },
    {
      "cell_type": "code",
      "execution_count": 13,
      "metadata": {
        "colab": {
          "base_uri": "https://localhost:8080/",
          "height": 269
        },
        "colab_type": "code",
        "id": "4Pkow8AWmveQ",
        "outputId": "4e3de6bc-abb3-45c1-df65-3b59b8a116d1"
      },
      "outputs": [
        {
          "data": {
            "image/png": "[encoded data removed]",
            "text/plain": [
              "<Figure size 432x288 with 1 Axes>"
            ]
          },
          "metadata": {
            "needs_background": "light"
          },
          "output_type": "display_data"
        }
      ],
      "source": [
        "plt.scatter(df.NUMERO_GRAVIDEZ, df.POSSUI_DIABETES)\n",
        "plt.show()"
      ]
    },
    {
      "cell_type": "code",
      "execution_count": 14,
      "metadata": {
        "colab": {
          "base_uri": "https://localhost:8080/",
          "height": 283
        },
        "colab_type": "code",
        "id": "MuqasK01qMux",
        "outputId": "14eac4fc-4bf3-4d67-e379-2a071af403fd"
      },
      "outputs": [
        {
          "data": {
            "image/png": "[encoded data removed]",
            "text/plain": [
              "<Figure size 432x288 with 1 Axes>"
            ]
          },
          "metadata": {
            "needs_background": "light"
          },
          "output_type": "display_data"
        }
      ],
      "source": [
        "# Criando subset dos dados\n",
        "df2 = df.copy()\n",
        "\n",
        "# Definindo os valores de x e y\n",
        "x = df2.NUMERO_GRAVIDEZ\n",
        "y = df2.IDADE\n",
        "\n",
        "# Computando os valores e gerando o gráfico\n",
        "m, b = np.polyfit(x, y, 1)\n",
        "plt.plot(x, y, '.')\n",
        "plt.plot(x, m*x + b, '-', color = \"red\")\n",
        "plt.xlabel(\"Quantidade de gravidez\")\n",
        "plt.ylabel(\"Idade\")\n",
        "plt.title(\"\")\n",
        "plt.show()"
      ]
    },
    {
      "cell_type": "code",
      "execution_count": null,
      "metadata": {
        "colab": {},
        "colab_type": "code",
        "id": "iNi1gAM7qqux"
      },
      "outputs": [],
      "source": []
    },
    {
      "cell_type": "markdown",
      "metadata": {
        "colab_type": "text",
        "id": "U_Gy-2mY4dZu"
      },
      "source": [
        "### Tratando valores Missing"
      ]
    },
    {
      "cell_type": "code",
      "execution_count": 15,
      "metadata": {
        "colab": {},
        "colab_type": "code",
        "id": "HUetfKWfe9x-"
      },
      "outputs": [],
      "source": [
        "df.loc[df['NUMERO_GRAVIDEZ'] > 0, 'NUMERO_GRAVIDEZ'] = 1"
      ]
    },
    {
      "cell_type": "code",
      "execution_count": 16,
      "metadata": {
        "colab": {
          "base_uri": "https://localhost:8080/",
          "height": 35
        },
        "colab_type": "code",
        "id": "Kx6kWMble-KC",
        "outputId": "10fdcb4d-d3e7-4b65-f7e1-b66f1a2d18ed"
      },
      "outputs": [
        {
          "data": {
            "text/plain": [
              "array([1, 0], dtype=int64)"
            ]
          },
          "execution_count": 16,
          "metadata": {},
          "output_type": "execute_result"
        }
      ],
      "source": [
        "df['NUMERO_GRAVIDEZ'].unique()"
      ]
    },
    {
      "cell_type": "code",
      "execution_count": 17,
      "metadata": {
        "colab": {
          "base_uri": "https://localhost:8080/",
          "height": 53
        },
        "colab_type": "code",
        "id": "O-3lfmaxa5ts",
        "outputId": "36d34e11-2c06-404f-837c-89662825ac09"
      },
      "outputs": [
        {
          "name": "stdout",
          "output_type": "stream",
          "text": [
            "Número de Casos Verdadeiros: 268 (34.90%)\n",
            "Número de Casos Falsos     : 500 (65.10%)\n"
          ]
        }
      ],
      "source": [
        "num_true = len(df.loc[df['POSSUI_DIABETES'] == 1])\n",
        "num_false = len(df.loc[df['POSSUI_DIABETES'] == 0])\n",
        "print(\"Número de Casos Verdadeiros: {0} ({1:2.2f}%)\". format(num_true, (num_true / (num_true + num_false)) * 100))\n",
        "print(\"Número de Casos Falsos     : {0} ({1:2.2f}%)\". format(num_false, (num_false / (num_true + num_false)) * 100))"
      ]
    },
    {
      "cell_type": "code",
      "execution_count": 18,
      "metadata": {
        "colab": {
          "base_uri": "https://localhost:8080/",
          "height": 142
        },
        "colab_type": "code",
        "id": "KVuWlbj2kz5z",
        "outputId": "56f2d20e-81b2-4d98-93cc-54fc6fcf471f"
      },
      "outputs": [
        {
          "name": "stdout",
          "output_type": "stream",
          "text": [
            "# Linhas no dataframe 768\n",
            "# Linhas missing GLICOSE: 5\n",
            "# Linhas missing PRESSAO_SANGUINEA: 35\n",
            "# Linhas missing ESPESSURA_PELE_TRICEPS: 227\n",
            "# Linhas missing INSULINA: 374\n",
            "# Linhas missing IMC: 11\n",
            "# Linhas missing IDADE: 0\n"
          ]
        }
      ],
      "source": [
        "print(\"# Linhas no dataframe {0}\".format(len(df)))\n",
        "print(\"# Linhas missing GLICOSE: {0}\".format(len(df.loc[df['GLICOSE'] == 0])))\n",
        "print(\"# Linhas missing PRESSAO_SANGUINEA: {0}\".format(len(df.loc[df['PRESSAO_SANGUINEA'] == 0])))\n",
        "print(\"# Linhas missing ESPESSURA_PELE_TRICEPS: {0}\".format(len(df.loc[df['ESPESSURA_PELE_TRICEPS'] == 0])))\n",
        "print(\"# Linhas missing INSULINA: {0}\".format(len(df.loc[df['INSULINA'] == 0])))\n",
        "print(\"# Linhas missing IMC: {0}\".format(len(df.loc[df['IMC'] == 0])))\n",
        "print(\"# Linhas missing IDADE: {0}\".format(len(df.loc[df['IDADE'] == 0])))"
      ]
    },
    {
      "cell_type": "code",
      "execution_count": 19,
      "metadata": {
        "colab": {},
        "colab_type": "code",
        "id": "4nrz3AJfl3pe"
      },
      "outputs": [],
      "source": [
        "impute_mediana = SimpleImputer(missing_values=0, strategy='median')"
      ]
    },
    {
      "cell_type": "markdown",
      "metadata": {
        "colab_type": "text",
        "id": "LahV13Bd4lA9"
      },
      "source": [
        "### Separando  os dados para o Treinamento e Validações"
      ]
    },
    {
      "cell_type": "code",
      "execution_count": 20,
      "metadata": {
        "colab": {},
        "colab_type": "code",
        "id": "O7xIgSWcoi26"
      },
      "outputs": [],
      "source": [
        "x = df.drop('POSSUI_DIABETES', axis = 1).values\n",
        "Y = df['POSSUI_DIABETES'].values"
      ]
    },
    {
      "cell_type": "code",
      "execution_count": 21,
      "metadata": {
        "colab": {},
        "colab_type": "code",
        "id": "6RGfCyispfcx"
      },
      "outputs": [],
      "source": [
        "impute_mediana.fit(x)\n",
        "x = impute_mediana.transform(x)"
      ]
    },
    {
      "cell_type": "code",
      "execution_count": 22,
      "metadata": {
        "colab": {
          "base_uri": "https://localhost:8080/",
          "height": 142
        },
        "colab_type": "code",
        "id": "Y0mws1w0qNob",
        "outputId": "c56ee5ef-0aec-43b3-baaf-5cb3243d162d"
      },
      "outputs": [
        {
          "data": {
            "text/plain": [
              "array([[  1.   , 148.   ,  72.   , ...,  33.6  ,   0.627,  50.   ],\n",
              "       [  1.   ,  85.   ,  66.   , ...,  26.6  ,   0.351,  31.   ],\n",
              "       [  1.   , 183.   ,  64.   , ...,  23.3  ,   0.672,  32.   ],\n",
              "       ...,\n",
              "       [  1.   , 121.   ,  72.   , ...,  26.2  ,   0.245,  30.   ],\n",
              "       [  1.   , 126.   ,  60.   , ...,  30.1  ,   0.349,  47.   ],\n",
              "       [  1.   ,  93.   ,  70.   , ...,  30.4  ,   0.315,  23.   ]])"
            ]
          },
          "execution_count": 22,
          "metadata": {},
          "output_type": "execute_result"
        }
      ],
      "source": [
        "x"
      ]
    },
    {
      "cell_type": "code",
      "execution_count": 23,
      "metadata": {
        "colab": {
          "base_uri": "https://localhost:8080/",
          "height": 35
        },
        "colab_type": "code",
        "id": "O_ZueTFIrVZs",
        "outputId": "4c656d9f-d977-46b3-e5ff-0735b7754db9"
      },
      "outputs": [
        {
          "data": {
            "text/plain": [
              "array([], dtype=float64)"
            ]
          },
          "execution_count": 23,
          "metadata": {},
          "output_type": "execute_result"
        }
      ],
      "source": [
        "x[np.where(x == 0)]       "
      ]
    },
    {
      "cell_type": "code",
      "execution_count": 24,
      "metadata": {
        "colab": {},
        "colab_type": "code",
        "id": "tUa_lVu-rZvZ"
      },
      "outputs": [],
      "source": [
        "split_test_size = 0.30\n",
        "SEED = 42\n",
        "X_treino, X_teste, Y_treino, Y_teste = train_test_split(x, Y, test_size = split_test_size, random_state = SEED)"
      ]
    },
    {
      "cell_type": "code",
      "execution_count": 25,
      "metadata": {
        "colab": {
          "base_uri": "https://localhost:8080/",
          "height": 53
        },
        "colab_type": "code",
        "id": "MEkNk0NqteJp",
        "outputId": "05c5ed79-a1ef-4fec-d43f-bd28ccee0f0e"
      },
      "outputs": [
        {
          "name": "stdout",
          "output_type": "stream",
          "text": [
            "69.92% nos dados de treino\n",
            "30.08% nos dados de teste\n"
          ]
        }
      ],
      "source": [
        "print(\"{0:0.2f}% nos dados de treino\".format((len(X_treino)/len(df.index)) * 100))\n",
        "print(\"{0:0.2f}% nos dados de teste\".format((len(X_teste)/len(df.index)) * 100))"
      ]
    },
    {
      "cell_type": "markdown",
      "metadata": {
        "colab_type": "text",
        "id": "Uzm9LMzuNMoW"
      },
      "source": [
        "# Criando os modelos de ML"
      ]
    },
    {
      "cell_type": "markdown",
      "metadata": {
        "colab_type": "text",
        "id": "tKWB8yjnOtuM"
      },
      "source": [
        "### Naive Bayes"
      ]
    },
    {
      "cell_type": "code",
      "execution_count": 26,
      "metadata": {
        "colab": {},
        "colab_type": "code",
        "id": "xYAdeBnHNPml"
      },
      "outputs": [],
      "source": [
        "from sklearn.naive_bayes import GaussianNB\n",
        "from sklearn import metrics"
      ]
    },
    {
      "cell_type": "code",
      "execution_count": 27,
      "metadata": {
        "colab": {},
        "colab_type": "code",
        "id": "RGXyB-esNQtd"
      },
      "outputs": [],
      "source": [
        "modelo_v1 = GaussianNB()"
      ]
    },
    {
      "cell_type": "code",
      "execution_count": 28,
      "metadata": {
        "colab": {
          "base_uri": "https://localhost:8080/",
          "height": 35
        },
        "colab_type": "code",
        "id": "IFqxGwiCNSzG",
        "outputId": "c54dc284-5cb5-4cf1-e2c6-2736f67b76a9"
      },
      "outputs": [
        {
          "data": {
            "text/plain": [
              "GaussianNB()"
            ]
          },
          "execution_count": 28,
          "metadata": {},
          "output_type": "execute_result"
        }
      ],
      "source": [
        "modelo_v1.fit(X_treino, Y_treino.ravel())"
      ]
    },
    {
      "cell_type": "code",
      "execution_count": 29,
      "metadata": {
        "colab": {
          "base_uri": "https://localhost:8080/",
          "height": 35
        },
        "colab_type": "code",
        "id": "7dv3ds27NWuO",
        "outputId": "7f33fd62-0113-448e-d5f2-5da9a999023f"
      },
      "outputs": [
        {
          "name": "stdout",
          "output_type": "stream",
          "text": [
            "Exatidão (Accuracy): 0.7403\n"
          ]
        }
      ],
      "source": [
        "nb_predict_test = modelo_v1.predict(X_teste)\n",
        "print(\"Exatidão (Accuracy): {0:.4f}\".format(metrics.accuracy_score(Y_teste, nb_predict_test)))"
      ]
    },
    {
      "cell_type": "code",
      "execution_count": 30,
      "metadata": {
        "colab": {
          "base_uri": "https://localhost:8080/",
          "height": 267
        },
        "colab_type": "code",
        "id": "9PgRTGauNrql",
        "outputId": "c5ff294b-16b6-47da-b54a-4e2ef5901fe4"
      },
      "outputs": [
        {
          "name": "stdout",
          "output_type": "stream",
          "text": [
            "Confusion Matrix\n",
            "[[ 48  32]\n",
            " [ 28 123]]\n",
            "\n",
            "Classification Report\n",
            "              precision    recall  f1-score   support\n",
            "\n",
            "           1       0.63      0.60      0.62        80\n",
            "           0       0.79      0.81      0.80       151\n",
            "\n",
            "    accuracy                           0.74       231\n",
            "   macro avg       0.71      0.71      0.71       231\n",
            "weighted avg       0.74      0.74      0.74       231\n",
            "\n"
          ]
        }
      ],
      "source": [
        "print(\"Confusion Matrix\")\n",
        "\n",
        "print(\"{0}\".format(metrics.confusion_matrix(Y_teste, nb_predict_test, labels = [1, 0])))\n",
        "print(\"\")\n",
        "\n",
        "print(\"Classification Report\")\n",
        "print(metrics.classification_report(Y_teste, nb_predict_test, labels = [1, 0]))"
      ]
    },
    {
      "cell_type": "code",
      "execution_count": null,
      "metadata": {
        "colab": {},
        "colab_type": "code",
        "id": "w0B37Wg3PBVj"
      },
      "outputs": [],
      "source": []
    },
    {
      "cell_type": "markdown",
      "metadata": {
        "colab_type": "text",
        "id": "JLvJ9ViiPDps"
      },
      "source": [
        "### Random Forest"
      ]
    },
    {
      "cell_type": "code",
      "execution_count": 31,
      "metadata": {
        "colab": {},
        "colab_type": "code",
        "id": "wpMxPHFRPFdL"
      },
      "outputs": [],
      "source": [
        "from sklearn.ensemble import RandomForestClassifier"
      ]
    },
    {
      "cell_type": "code",
      "execution_count": 32,
      "metadata": {
        "colab": {
          "base_uri": "https://localhost:8080/",
          "height": 124
        },
        "colab_type": "code",
        "id": "J4eptpI4PHf-",
        "outputId": "8fc06ce2-d4d1-4575-bcf9-4afdd0c84d90"
      },
      "outputs": [
        {
          "data": {
            "text/plain": [
              "RandomForestClassifier(random_state=42)"
            ]
          },
          "execution_count": 32,
          "metadata": {},
          "output_type": "execute_result"
        }
      ],
      "source": [
        "modelo_v2 = RandomForestClassifier(random_state = 42)\n",
        "modelo_v2.fit(X_treino, Y_treino.ravel())"
      ]
    },
    {
      "cell_type": "code",
      "execution_count": 33,
      "metadata": {
        "colab": {
          "base_uri": "https://localhost:8080/",
          "height": 35
        },
        "colab_type": "code",
        "id": "9ViCEF0fPRc1",
        "outputId": "b2ffb867-69fb-4d86-b283-fd34e8e9b566"
      },
      "outputs": [
        {
          "name": "stdout",
          "output_type": "stream",
          "text": [
            "Exatidão (Accuracy): 0.7273\n"
          ]
        }
      ],
      "source": [
        "rf_predict_test = modelo_v2.predict(X_teste)\n",
        "print(\"Exatidão (Accuracy): {0:.4f}\".format(metrics.accuracy_score(Y_teste, rf_predict_test)))"
      ]
    },
    {
      "cell_type": "code",
      "execution_count": 34,
      "metadata": {
        "colab": {
          "base_uri": "https://localhost:8080/",
          "height": 249
        },
        "colab_type": "code",
        "id": "L2_kemudPWRN",
        "outputId": "43761958-a1d3-48f6-f918-55398ec140b3"
      },
      "outputs": [
        {
          "name": "stdout",
          "output_type": "stream",
          "text": [
            "Confusion Matrix\n",
            "[[ 50  30]\n",
            " [ 33 118]]\n",
            "Classification Report\n",
            "              precision    recall  f1-score   support\n",
            "\n",
            "           1       0.60      0.62      0.61        80\n",
            "           0       0.80      0.78      0.79       151\n",
            "\n",
            "    accuracy                           0.73       231\n",
            "   macro avg       0.70      0.70      0.70       231\n",
            "weighted avg       0.73      0.73      0.73       231\n",
            "\n"
          ]
        }
      ],
      "source": [
        "print(\"Confusion Matrix\")\n",
        "print(\"{0}\".format(metrics.confusion_matrix(Y_teste, rf_predict_test, labels = [1, 0])))\n",
        "\n",
        "print(\"Classification Report\")\n",
        "print(metrics.classification_report(Y_teste, rf_predict_test, labels = [1, 0]))"
      ]
    },
    {
      "cell_type": "markdown",
      "metadata": {
        "colab_type": "text",
        "id": "TqFGtgK0QlNI"
      },
      "source": [
        "### Regressão Logistica"
      ]
    },
    {
      "cell_type": "code",
      "execution_count": 35,
      "metadata": {
        "colab": {},
        "colab_type": "code",
        "id": "UAORKNqGQnsz"
      },
      "outputs": [],
      "source": [
        "from sklearn.linear_model import LogisticRegression"
      ]
    },
    {
      "cell_type": "code",
      "execution_count": 36,
      "metadata": {
        "colab": {},
        "colab_type": "code",
        "id": "9JChTPZmRAL3"
      },
      "outputs": [],
      "source": [
        "modelo_v3 = LogisticRegression(C = 0.7, random_state = 42)\n",
        "modelo_v3.fit(X_treino, Y_treino.ravel())\n",
        "lr_predict_test = modelo_v3.predict(X_teste)"
      ]
    },
    {
      "cell_type": "code",
      "execution_count": 37,
      "metadata": {
        "colab": {
          "base_uri": "https://localhost:8080/",
          "height": 214
        },
        "colab_type": "code",
        "id": "4PtqI2PkRCz0",
        "outputId": "85565832-a4cc-4d61-fe14-ded407e7a343"
      },
      "outputs": [
        {
          "name": "stdout",
          "output_type": "stream",
          "text": [
            "Exatidão (Accuracy): 0.7359\n",
            "Classification Report\n",
            "              precision    recall  f1-score   support\n",
            "\n",
            "           1       0.63      0.59      0.61        80\n",
            "           0       0.79      0.81      0.80       151\n",
            "\n",
            "    accuracy                           0.74       231\n",
            "   macro avg       0.71      0.70      0.70       231\n",
            "weighted avg       0.73      0.74      0.73       231\n",
            "\n"
          ]
        }
      ],
      "source": [
        "print(\"Exatidão (Accuracy): {0:.4f}\".format(metrics.accuracy_score(Y_teste, lr_predict_test)))\n",
        "print(\"Classification Report\")\n",
        "print(metrics.classification_report(Y_teste, lr_predict_test, labels = [1, 0]))"
      ]
    },
    {
      "cell_type": "markdown",
      "metadata": {
        "colab_type": "text",
        "id": "RPvTT18F5BpH"
      },
      "source": [
        "## Exportando modelo treinado para um Arquivo"
      ]
    },
    {
      "cell_type": "code",
      "execution_count": 38,
      "metadata": {
        "colab": {},
        "colab_type": "code",
        "id": "xeDvG5_nRIUl"
      },
      "outputs": [],
      "source": [
        "filename = '../dados/modelo_diabetes.pkl'\n",
        "pickle.dump(modelo_v3, open(filename, 'wb'))"
      ]
    },
    {
      "cell_type": "markdown",
      "metadata": {
        "colab_type": "text",
        "id": "lHc5FRi55K9S"
      },
      "source": [
        "### Fazendo testes com o modelo"
      ]
    },
    {
      "cell_type": "code",
      "execution_count": 40,
      "metadata": {
        "colab": {
          "base_uri": "https://localhost:8080/",
          "height": 206
        },
        "colab_type": "code",
        "id": "Vv64AthXvn0a",
        "outputId": "ff0c76be-3b78-4924-f967-73b9b86b0421"
      },
      "outputs": [
        {
          "data": {
            "text/html": [
              "<div>\n",
              "<style scoped>\n",
              "    .dataframe tbody tr th:only-of-type {\n",
              "        vertical-align: middle;\n",
              "    }\n",
              "\n",
              "    .dataframe tbody tr th {\n",
              "        vertical-align: top;\n",
              "    }\n",
              "\n",
              "    .dataframe thead th {\n",
              "        text-align: right;\n",
              "    }\n",
              "</style>\n",
              "<table border=\"1\" class=\"dataframe\">\n",
              "  <thead>\n",
              "    <tr style=\"text-align: right;\">\n",
              "      <th></th>\n",
              "      <th>NUMERO_GRAVIDEZ</th>\n",
              "      <th>GLICOSE</th>\n",
              "      <th>PRESSAO_SANGUINEA</th>\n",
              "      <th>ESPESSURA_PELE_TRICEPS</th>\n",
              "      <th>INSULINA</th>\n",
              "      <th>IMC</th>\n",
              "      <th>FUNCAO_DIABETES</th>\n",
              "      <th>IDADE</th>\n",
              "      <th>POSSUI_DIABETES</th>\n",
              "    </tr>\n",
              "  </thead>\n",
              "  <tbody>\n",
              "    <tr>\n",
              "      <th>0</th>\n",
              "      <td>1</td>\n",
              "      <td>148</td>\n",
              "      <td>72</td>\n",
              "      <td>35</td>\n",
              "      <td>0</td>\n",
              "      <td>33.6</td>\n",
              "      <td>0.627</td>\n",
              "      <td>50</td>\n",
              "      <td>1</td>\n",
              "    </tr>\n",
              "    <tr>\n",
              "      <th>1</th>\n",
              "      <td>1</td>\n",
              "      <td>85</td>\n",
              "      <td>66</td>\n",
              "      <td>29</td>\n",
              "      <td>0</td>\n",
              "      <td>26.6</td>\n",
              "      <td>0.351</td>\n",
              "      <td>31</td>\n",
              "      <td>0</td>\n",
              "    </tr>\n",
              "    <tr>\n",
              "      <th>2</th>\n",
              "      <td>1</td>\n",
              "      <td>183</td>\n",
              "      <td>64</td>\n",
              "      <td>0</td>\n",
              "      <td>0</td>\n",
              "      <td>23.3</td>\n",
              "      <td>0.672</td>\n",
              "      <td>32</td>\n",
              "      <td>1</td>\n",
              "    </tr>\n",
              "    <tr>\n",
              "      <th>3</th>\n",
              "      <td>1</td>\n",
              "      <td>89</td>\n",
              "      <td>66</td>\n",
              "      <td>23</td>\n",
              "      <td>94</td>\n",
              "      <td>28.1</td>\n",
              "      <td>0.167</td>\n",
              "      <td>21</td>\n",
              "      <td>0</td>\n",
              "    </tr>\n",
              "    <tr>\n",
              "      <th>4</th>\n",
              "      <td>0</td>\n",
              "      <td>137</td>\n",
              "      <td>40</td>\n",
              "      <td>35</td>\n",
              "      <td>168</td>\n",
              "      <td>43.1</td>\n",
              "      <td>2.288</td>\n",
              "      <td>33</td>\n",
              "      <td>1</td>\n",
              "    </tr>\n",
              "  </tbody>\n",
              "</table>\n",
              "</div>"
            ],
            "text/plain": [
              "   NUMERO_GRAVIDEZ  GLICOSE  PRESSAO_SANGUINEA  ESPESSURA_PELE_TRICEPS  \\\n",
              "0                1      148                 72                      35   \n",
              "1                1       85                 66                      29   \n",
              "2                1      183                 64                       0   \n",
              "3                1       89                 66                      23   \n",
              "4                0      137                 40                      35   \n",
              "\n",
              "   INSULINA   IMC  FUNCAO_DIABETES  IDADE  POSSUI_DIABETES  \n",
              "0         0  33.6            0.627     50                1  \n",
              "1         0  26.6            0.351     31                0  \n",
              "2         0  23.3            0.672     32                1  \n",
              "3        94  28.1            0.167     21                0  \n",
              "4       168  43.1            2.288     33                1  "
            ]
          },
          "execution_count": 40,
          "metadata": {},
          "output_type": "execute_result"
        }
      ],
      "source": [
        "X_teste[5]\n",
        "df.head()"
      ]
    },
    {
      "cell_type": "code",
      "execution_count": 47,
      "metadata": {},
      "outputs": [],
      "source": [
        "colunas_diabetes = ['NUMERO_GRAVIDEZ','GLICOSE','PRESSAO_SANGUINEA','ESPESSURA_PELE_TRICEPS','INSULINA','IMC','FUNCAO_DIABETES','IDADE']"
      ]
    },
    {
      "cell_type": "code",
      "execution_count": 41,
      "metadata": {
        "colab": {},
        "colab_type": "code",
        "id": "zSlxdF4-OwEg"
      },
      "outputs": [],
      "source": [
        "dados = {'NUMERO_GRAVIDEZ': 1, 'GLICOSE': 103, 'PRESSAO_SANGUINEA': 72, \n",
        " 'ESPESSURA_PELE_TRICEPS': 32, 'INSULINA': 190, 'IMC': 37.7, 'FUNCAO_DIABETES': 0.324, 'IDADE': 55}"
      ]
    },
    {
      "cell_type": "code",
      "execution_count": 48,
      "metadata": {},
      "outputs": [],
      "source": [
        "dados =[dados[col] for col in colunas_diabetes]"
      ]
    },
    {
      "cell_type": "code",
      "execution_count": 50,
      "metadata": {
        "colab": {
          "base_uri": "https://localhost:8080/",
          "height": 35
        },
        "colab_type": "code",
        "id": "TdIazXguPaGe",
        "outputId": "9b35d6c2-a86b-435f-d92c-92fe8be8968d"
      },
      "outputs": [
        {
          "data": {
            "text/plain": [
              "array([0], dtype=int64)"
            ]
          },
          "execution_count": 50,
          "metadata": {},
          "output_type": "execute_result"
        }
      ],
      "source": [
        "modelo_v3.predict([dados])"
      ]
    }
  ],
  "metadata": {
    "colab": {
      "name": "DSA - Prever Diabetes.ipynb",
      "provenance": [],
      "version": "0.3.2"
    },
    "kernelspec": {
      "display_name": "Python 3.9.6 64-bit",
      "language": "python",
      "name": "python3"
    },
    "language_info": {
      "codemirror_mode": {
        "name": "ipython",
        "version": 3
      },
      "file_extension": ".py",
      "mimetype": "text/x-python",
      "name": "python",
      "nbconvert_exporter": "python",
      "pygments_lexer": "ipython3",
      "version": "3.9.6"
    },
    "vscode": {
      "interpreter": {
        "hash": "405a0b173c5cf5a11c5ff9c7de104f5a7664106e5ca03cea15627182b53f8b03"
      }
    }
  },
  "nbformat": 4,
  "nbformat_minor": 0
}
